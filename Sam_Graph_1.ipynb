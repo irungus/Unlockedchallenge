{
 "cells": [
  {
   "cell_type": "markdown",
   "id": "611533c5-522f-4544-a767-f5c2e8b736e1",
   "metadata": {},
   "source": [
    "# Import Libraries "
   ]
  },
  {
   "cell_type": "code",
   "execution_count": 3,
   "id": "a9bb27e6-6cb4-44c9-8b0f-8aaf04e87ffc",
   "metadata": {},
   "outputs": [],
   "source": [
    "#Manipulation Libraries \n",
    "import pandas as pd\n",
    "import numpy as np\n",
    "\n",
    "#Visualization Libraries\n",
    "import seaborn as sns\n",
    "import matplotlib.pyplot as plt\n",
    "%matplotlib inline"
   ]
  },
  {
   "cell_type": "markdown",
   "id": "2355162d-a638-400e-9ffb-84d7e1bb3159",
   "metadata": {},
   "source": [
    "- Note: Temparature change is with respect to a baseline climatology, corresponding to the period **1951-1980**"
   ]
  },
  {
   "cell_type": "markdown",
   "id": "46ca2a08-d77d-482e-8de2-c8e2feed2175",
   "metadata": {},
   "source": [
    "## Load & Explore Data"
   ]
  },
  {
   "cell_type": "code",
   "execution_count": 8,
   "id": "c218e6d0-ee10-43a6-b1f0-5cd51a572dea",
   "metadata": {},
   "outputs": [
    {
     "data": {
      "text/plain": [
       "Index(['Domain Code', 'Domain', 'Area Code (ISO3)', 'Area', 'Element Code',\n",
       "       'Element', 'Months Code', 'Months', 'Year Code', 'Year', 'Unit',\n",
       "       'Value', 'Flag', 'Flag Description'],\n",
       "      dtype='object')"
      ]
     },
     "execution_count": 8,
     "metadata": {},
     "output_type": "execute_result"
    }
   ],
   "source": [
    "#import the data\n",
    "temp = pd.read_csv(\"temperature_change_data_11-29-2021.csv\")\n",
    "temp.columns"
   ]
  },
  {
   "cell_type": "code",
   "execution_count": 9,
   "id": "a30995d2-5238-4a9f-8946-be153cd67d13",
   "metadata": {},
   "outputs": [
    {
     "data": {
      "text/html": [
       "<div>\n",
       "<style scoped>\n",
       "    .dataframe tbody tr th:only-of-type {\n",
       "        vertical-align: middle;\n",
       "    }\n",
       "\n",
       "    .dataframe tbody tr th {\n",
       "        vertical-align: top;\n",
       "    }\n",
       "\n",
       "    .dataframe thead th {\n",
       "        text-align: right;\n",
       "    }\n",
       "</style>\n",
       "<table border=\"1\" class=\"dataframe\">\n",
       "  <thead>\n",
       "    <tr style=\"text-align: right;\">\n",
       "      <th></th>\n",
       "      <th>Element Code</th>\n",
       "      <th>Months Code</th>\n",
       "      <th>Year Code</th>\n",
       "      <th>Year</th>\n",
       "      <th>Value</th>\n",
       "    </tr>\n",
       "  </thead>\n",
       "  <tbody>\n",
       "    <tr>\n",
       "      <th>count</th>\n",
       "      <td>67625.0</td>\n",
       "      <td>67625.000000</td>\n",
       "      <td>67625.000000</td>\n",
       "      <td>67625.000000</td>\n",
       "      <td>65331.000000</td>\n",
       "    </tr>\n",
       "    <tr>\n",
       "      <th>mean</th>\n",
       "      <td>7271.0</td>\n",
       "      <td>7018.000000</td>\n",
       "      <td>1991.306248</td>\n",
       "      <td>1991.306248</td>\n",
       "      <td>0.491524</td>\n",
       "    </tr>\n",
       "    <tr>\n",
       "      <th>std</th>\n",
       "      <td>0.0</td>\n",
       "      <td>1.414224</td>\n",
       "      <td>17.333343</td>\n",
       "      <td>17.333343</td>\n",
       "      <td>0.820116</td>\n",
       "    </tr>\n",
       "    <tr>\n",
       "      <th>min</th>\n",
       "      <td>7271.0</td>\n",
       "      <td>7016.000000</td>\n",
       "      <td>1961.000000</td>\n",
       "      <td>1961.000000</td>\n",
       "      <td>-5.979000</td>\n",
       "    </tr>\n",
       "    <tr>\n",
       "      <th>25%</th>\n",
       "      <td>7271.0</td>\n",
       "      <td>7017.000000</td>\n",
       "      <td>1976.000000</td>\n",
       "      <td>1976.000000</td>\n",
       "      <td>-0.011000</td>\n",
       "    </tr>\n",
       "    <tr>\n",
       "      <th>50%</th>\n",
       "      <td>7271.0</td>\n",
       "      <td>7018.000000</td>\n",
       "      <td>1992.000000</td>\n",
       "      <td>1992.000000</td>\n",
       "      <td>0.410000</td>\n",
       "    </tr>\n",
       "    <tr>\n",
       "      <th>75%</th>\n",
       "      <td>7271.0</td>\n",
       "      <td>7019.000000</td>\n",
       "      <td>2006.000000</td>\n",
       "      <td>2006.000000</td>\n",
       "      <td>0.932000</td>\n",
       "    </tr>\n",
       "    <tr>\n",
       "      <th>max</th>\n",
       "      <td>7271.0</td>\n",
       "      <td>7020.000000</td>\n",
       "      <td>2020.000000</td>\n",
       "      <td>2020.000000</td>\n",
       "      <td>8.206000</td>\n",
       "    </tr>\n",
       "  </tbody>\n",
       "</table>\n",
       "</div>"
      ],
      "text/plain": [
       "       Element Code   Months Code     Year Code          Year         Value\n",
       "count       67625.0  67625.000000  67625.000000  67625.000000  65331.000000\n",
       "mean         7271.0   7018.000000   1991.306248   1991.306248      0.491524\n",
       "std             0.0      1.414224     17.333343     17.333343      0.820116\n",
       "min          7271.0   7016.000000   1961.000000   1961.000000     -5.979000\n",
       "25%          7271.0   7017.000000   1976.000000   1976.000000     -0.011000\n",
       "50%          7271.0   7018.000000   1992.000000   1992.000000      0.410000\n",
       "75%          7271.0   7019.000000   2006.000000   2006.000000      0.932000\n",
       "max          7271.0   7020.000000   2020.000000   2020.000000      8.206000"
      ]
     },
     "execution_count": 9,
     "metadata": {},
     "output_type": "execute_result"
    }
   ],
   "source": [
    "temp.describe()"
   ]
  },
  {
   "cell_type": "code",
   "execution_count": 17,
   "id": "a0aa09ad-d3ed-4d3e-a602-5bd1607bddfa",
   "metadata": {},
   "outputs": [
    {
     "data": {
      "text/plain": [
       "Afghanistan              300\n",
       "Norfolk Island           300\n",
       "Namibia                  300\n",
       "Nauru                    300\n",
       "Nepal                    300\n",
       "                        ... \n",
       "Montenegro                75\n",
       "Serbia                    75\n",
       "Serbia and Montenegro     70\n",
       "Sudan                     50\n",
       "South Sudan               50\n",
       "Name: Area, Length: 247, dtype: int64"
      ]
     },
     "execution_count": 17,
     "metadata": {},
     "output_type": "execute_result"
    }
   ],
   "source": [
    "temp[\"Area\"].value_counts()"
   ]
  },
  {
   "cell_type": "code",
   "execution_count": 18,
   "id": "cc28cd5f-b3b1-4c93-987b-e96da388accd",
   "metadata": {},
   "outputs": [
    {
     "data": {
      "text/plain": [
       "array(['Afghanistan', 'Albania', 'Algeria', 'American Samoa', 'Andorra',\n",
       "       'Angola', 'Anguilla', 'Antarctica', 'Antigua and Barbuda',\n",
       "       'Argentina', 'Armenia', 'Aruba', 'Australia', 'Austria',\n",
       "       'Azerbaijan', 'Bahamas', 'Bahrain', 'Bangladesh', 'Barbados',\n",
       "       'Belarus', 'Belgium', 'Belgium-Luxembourg', 'Belize', 'Benin',\n",
       "       'Bhutan', 'Bolivia (Plurinational State of)',\n",
       "       'Bosnia and Herzegovina', 'Botswana', 'Brazil',\n",
       "       'British Virgin Islands', 'Brunei Darussalam', 'Bulgaria',\n",
       "       'Burkina Faso', 'Burundi', 'Cabo Verde', 'Cambodia', 'Cameroon',\n",
       "       'Canada', 'Cayman Islands', 'Central African Republic', 'Chad',\n",
       "       'Channel Islands', 'Chile', 'China', 'China, Hong Kong SAR',\n",
       "       'China, Macao SAR', 'China, mainland', 'China, Taiwan Province of',\n",
       "       'Christmas Island', 'Cocos (Keeling) Islands', 'Colombia',\n",
       "       'Comoros', 'Congo', 'Cook Islands', 'Costa Rica', \"Côte d'Ivoire\",\n",
       "       'Croatia', 'Cuba', 'Cyprus', 'Czechia', 'Czechoslovakia',\n",
       "       \"Democratic People's Republic of Korea\",\n",
       "       'Democratic Republic of the Congo', 'Denmark', 'Djibouti',\n",
       "       'Dominica', 'Dominican Republic', 'Ecuador', 'Egypt',\n",
       "       'El Salvador', 'Equatorial Guinea', 'Eritrea', 'Estonia',\n",
       "       'Eswatini', 'Ethiopia', 'Ethiopia PDR',\n",
       "       'Falkland Islands (Malvinas)', 'Faroe Islands', 'Fiji', 'Finland',\n",
       "       'France', 'French Guyana', 'French Polynesia',\n",
       "       'French Southern Territories', 'Gabon', 'Gambia', 'Georgia',\n",
       "       'Germany', 'Ghana', 'Gibraltar', 'Greece', 'Greenland', 'Grenada',\n",
       "       'Guadeloupe', 'Guatemala', 'Guinea', 'Guinea-Bissau', 'Guyana',\n",
       "       'Haiti', 'Holy See', 'Honduras', 'Hungary', 'Iceland', 'India',\n",
       "       'Indonesia', 'Iran (Islamic Republic of)', 'Iraq', 'Ireland',\n",
       "       'Isle of Man', 'Israel', 'Italy', 'Jamaica', 'Japan', 'Jordan',\n",
       "       'Kazakhstan', 'Kenya', 'Kiribati', 'Kuwait', 'Kyrgyzstan',\n",
       "       \"Lao People's Democratic Republic\", 'Latvia', 'Lebanon', 'Lesotho',\n",
       "       'Liberia', 'Libya', 'Liechtenstein', 'Lithuania', 'Luxembourg',\n",
       "       'Madagascar', 'Malawi', 'Malaysia', 'Maldives', 'Mali', 'Malta',\n",
       "       'Marshall Islands', 'Martinique', 'Mauritania', 'Mauritius',\n",
       "       'Mayotte', 'Mexico', 'Micronesia (Federated States of)',\n",
       "       'Midway Island', 'Monaco', 'Mongolia', 'Montenegro', 'Montserrat',\n",
       "       'Morocco', 'Mozambique', 'Myanmar', 'Namibia', 'Nauru', 'Nepal',\n",
       "       'Netherlands', 'Netherlands Antilles (former)', 'New Caledonia',\n",
       "       'New Zealand', 'Nicaragua', 'Niger', 'Nigeria', 'Niue',\n",
       "       'Norfolk Island', 'North Macedonia', 'Norway', 'Oman',\n",
       "       'Pacific Islands Trust Territory', 'Pakistan', 'Palau',\n",
       "       'Palestine', 'Panama', 'Papua New Guinea', 'Paraguay', 'Peru',\n",
       "       'Philippines', 'Pitcairn', 'Poland', 'Portugal', 'Puerto Rico',\n",
       "       'Qatar', 'Republic of Korea', 'Republic of Moldova', 'Réunion',\n",
       "       'Romania', 'Russian Federation', 'Rwanda',\n",
       "       'Saint Helena, Ascension and Tristan da Cunha',\n",
       "       'Saint Kitts and Nevis', 'Saint Lucia',\n",
       "       'Saint Pierre and Miquelon', 'Saint Vincent and the Grenadines',\n",
       "       'Samoa', 'San Marino', 'Sao Tome and Principe', 'Saudi Arabia',\n",
       "       'Senegal', 'Serbia', 'Serbia and Montenegro', 'Seychelles',\n",
       "       'Sierra Leone', 'Singapore', 'Slovakia', 'Slovenia',\n",
       "       'Solomon Islands', 'Somalia', 'South Africa',\n",
       "       'South Georgia and the South Sandwich Islands', 'South Sudan',\n",
       "       'Spain', 'Sri Lanka', 'Sudan', 'Sudan (former)', 'Suriname',\n",
       "       'Svalbard and Jan Mayen Islands', 'Sweden', 'Switzerland',\n",
       "       'Syrian Arab Republic', 'Tajikistan', 'Thailand', 'Timor-Leste',\n",
       "       'Togo', 'Tokelau', 'Tonga', 'Trinidad and Tobago', 'Tunisia',\n",
       "       'Turkey', 'Turkmenistan', 'Turks and Caicos Islands', 'Tuvalu',\n",
       "       'Uganda', 'Ukraine', 'United Arab Emirates',\n",
       "       'United Kingdom of Great Britain and Northern Ireland',\n",
       "       'United Republic of Tanzania', 'United States of America',\n",
       "       'United States Virgin Islands', 'Uruguay', 'USSR', 'Uzbekistan',\n",
       "       'Vanuatu', 'Venezuela (Bolivarian Republic of)', 'Viet Nam',\n",
       "       'Wake Island', 'Wallis and Futuna Islands', 'Western Sahara',\n",
       "       'Yemen', 'Yugoslav SFR', 'Zambia', 'Zimbabwe'], dtype=object)"
      ]
     },
     "execution_count": 18,
     "metadata": {},
     "output_type": "execute_result"
    }
   ],
   "source": [
    "temp[\"Area\"].unique()"
   ]
  },
  {
   "cell_type": "code",
   "execution_count": 25,
   "id": "5d0f6c0d-531c-4842-85bb-8815fe45578c",
   "metadata": {},
   "outputs": [
    {
     "data": {
      "text/plain": [
       "array(['Dec–Jan–Feb', 'Mar–Apr–May', 'Jun–Jul–Aug', 'Sep–Oct–Nov',\n",
       "       'Meteorological year'], dtype=object)"
      ]
     },
     "execution_count": 25,
     "metadata": {},
     "output_type": "execute_result"
    }
   ],
   "source": [
    "temp[\"Months\"].unique()"
   ]
  },
  {
   "cell_type": "markdown",
   "id": "a6a603c2-69d6-490c-8c3f-787765450cfd",
   "metadata": {},
   "source": [
    "## Prepare the Data"
   ]
  },
  {
   "cell_type": "code",
   "execution_count": 43,
   "id": "ccc7caea-f53c-4175-8f84-00fd2c707863",
   "metadata": {},
   "outputs": [
    {
     "data": {
      "text/html": [
       "<div>\n",
       "<style scoped>\n",
       "    .dataframe tbody tr th:only-of-type {\n",
       "        vertical-align: middle;\n",
       "    }\n",
       "\n",
       "    .dataframe tbody tr th {\n",
       "        vertical-align: top;\n",
       "    }\n",
       "\n",
       "    .dataframe thead th {\n",
       "        text-align: right;\n",
       "    }\n",
       "</style>\n",
       "<table border=\"1\" class=\"dataframe\">\n",
       "  <thead>\n",
       "    <tr style=\"text-align: right;\">\n",
       "      <th></th>\n",
       "      <th>Area</th>\n",
       "      <th>Year</th>\n",
       "      <th>Value</th>\n",
       "    </tr>\n",
       "  </thead>\n",
       "  <tbody>\n",
       "    <tr>\n",
       "      <th>0</th>\n",
       "      <td>China</td>\n",
       "      <td>1961</td>\n",
       "      <td>0.266</td>\n",
       "    </tr>\n",
       "    <tr>\n",
       "      <th>1</th>\n",
       "      <td>China</td>\n",
       "      <td>1962</td>\n",
       "      <td>-0.134</td>\n",
       "    </tr>\n",
       "    <tr>\n",
       "      <th>2</th>\n",
       "      <td>China</td>\n",
       "      <td>1963</td>\n",
       "      <td>0.292</td>\n",
       "    </tr>\n",
       "    <tr>\n",
       "      <th>3</th>\n",
       "      <td>China</td>\n",
       "      <td>1964</td>\n",
       "      <td>-0.020</td>\n",
       "    </tr>\n",
       "    <tr>\n",
       "      <th>4</th>\n",
       "      <td>China</td>\n",
       "      <td>1965</td>\n",
       "      <td>0.081</td>\n",
       "    </tr>\n",
       "  </tbody>\n",
       "</table>\n",
       "</div>"
      ],
      "text/plain": [
       "    Area  Year  Value\n",
       "0  China  1961  0.266\n",
       "1  China  1962 -0.134\n",
       "2  China  1963  0.292\n",
       "3  China  1964 -0.020\n",
       "4  China  1965  0.081"
      ]
     },
     "execution_count": 43,
     "metadata": {},
     "output_type": "execute_result"
    }
   ],
   "source": [
    "#Countries to keep\n",
    "areas_to_keep = [\"China\", \"Germany\", \"Japan\", \"United States of America\"]\n",
    "\n",
    "#Filter the data\n",
    "evolution = temp[(temp[\"Flag Description\"] != \"Data not available\") &\n",
    "                 (temp[\"Months\"] == \"Meteorological year\") &\n",
    "                 (temp[\"Area\"].isin(areas_to_keep))].reset_index(drop=True)\n",
    "#Rename some areas\n",
    "evolution[\"Area\"] = evolution[\"Area\"].replace(to_replace=[\"United States of America\"], value=[\"USA\"])\n",
    "\n",
    "#Group by  Area by Year\n",
    "evolution = evolution.groupby([\"Area\", \"Year\"])[\"Value\"].mean().reset_index()\n",
    "\n",
    "#look into the dataframe\n",
    "\n",
    "evolution.head()"
   ]
  },
  {
   "cell_type": "markdown",
   "id": "854e955b-468d-4e27-b617-e7098b58842a",
   "metadata": {},
   "source": []
  },
  {
   "cell_type": "code",
   "execution_count": 44,
   "id": "90b34bb5-7ae5-4d09-80eb-c8a7deb5a24b",
   "metadata": {},
   "outputs": [
    {
     "name": "stdout",
     "output_type": "stream",
     "text": [
      "Requirement already satisfied: nbconvert[webpdf] in /home/samu/anaconda3/envs/challenge1/lib/python3.8/site-packages (6.3.0)\n",
      "Requirement already satisfied: mistune<2,>=0.8.1 in /home/samu/anaconda3/envs/challenge1/lib/python3.8/site-packages (from nbconvert[webpdf]) (0.8.4)\n",
      "Requirement already satisfied: jupyterlab-pygments in /home/samu/anaconda3/envs/challenge1/lib/python3.8/site-packages (from nbconvert[webpdf]) (0.1.2)\n",
      "Requirement already satisfied: pygments>=2.4.1 in /home/samu/anaconda3/envs/challenge1/lib/python3.8/site-packages (from nbconvert[webpdf]) (2.10.0)\n",
      "Requirement already satisfied: nbclient<0.6.0,>=0.5.0 in /home/samu/anaconda3/envs/challenge1/lib/python3.8/site-packages (from nbconvert[webpdf]) (0.5.9)\n",
      "Requirement already satisfied: entrypoints>=0.2.2 in /home/samu/anaconda3/envs/challenge1/lib/python3.8/site-packages (from nbconvert[webpdf]) (0.3)\n",
      "Requirement already satisfied: pandocfilters>=1.4.1 in /home/samu/anaconda3/envs/challenge1/lib/python3.8/site-packages (from nbconvert[webpdf]) (1.5.0)\n",
      "Requirement already satisfied: defusedxml in /home/samu/anaconda3/envs/challenge1/lib/python3.8/site-packages (from nbconvert[webpdf]) (0.7.1)\n",
      "Requirement already satisfied: traitlets>=5.0 in /home/samu/anaconda3/envs/challenge1/lib/python3.8/site-packages (from nbconvert[webpdf]) (5.1.1)\n",
      "Requirement already satisfied: testpath in /home/samu/anaconda3/envs/challenge1/lib/python3.8/site-packages (from nbconvert[webpdf]) (0.5.0)\n",
      "Requirement already satisfied: nbformat>=4.4 in /home/samu/anaconda3/envs/challenge1/lib/python3.8/site-packages (from nbconvert[webpdf]) (5.1.3)\n",
      "Requirement already satisfied: bleach in /home/samu/anaconda3/envs/challenge1/lib/python3.8/site-packages (from nbconvert[webpdf]) (4.1.0)\n",
      "Requirement already satisfied: jinja2>=2.4 in /home/samu/anaconda3/envs/challenge1/lib/python3.8/site-packages (from nbconvert[webpdf]) (3.0.3)\n",
      "Requirement already satisfied: jupyter-core in /home/samu/anaconda3/envs/challenge1/lib/python3.8/site-packages (from nbconvert[webpdf]) (4.9.1)\n",
      "Collecting pyppeteer==0.2.6\n",
      "  Downloading pyppeteer-0.2.6-py3-none-any.whl (83 kB)\n",
      "\u001b[2K     \u001b[38;2;114;156;31m━━━━━━━━━━━━━━━━━━━━━━━━━━━━━━━━━━━━━━━\u001b[0m \u001b[32m83.9/83.9 kB\u001b[0m \u001b[31m243.9 kB/s\u001b[0m eta \u001b[36m0:00:00\u001b[0m[36m0:00:01\u001b[0m[36m0:00:01\u001b[0m\n",
      "\u001b[?25hCollecting appdirs<2.0.0,>=1.4.3\n",
      "  Downloading appdirs-1.4.4-py2.py3-none-any.whl (9.6 kB)\n",
      "Collecting importlib-metadata>=1.4\n",
      "  Downloading importlib_metadata-6.1.0-py3-none-any.whl (21 kB)\n",
      "Collecting websockets<10.0,>=9.1\n",
      "  Downloading websockets-9.1-cp38-cp38-manylinux2010_x86_64.whl (102 kB)\n",
      "\u001b[2K     \u001b[38;2;114;156;31m━━━━━━━━━━━━━━━━━━━━━━━━━━━━━━━━━━━━━\u001b[0m \u001b[32m102.3/102.3 kB\u001b[0m \u001b[31m104.6 kB/s\u001b[0m eta \u001b[36m0:00:00\u001b[0m kB/s\u001b[0m eta \u001b[36m0:00:01\u001b[0m\n",
      "\u001b[?25hCollecting tqdm<5.0.0,>=4.42.1\n",
      "  Downloading tqdm-4.65.0-py3-none-any.whl (77 kB)\n",
      "\u001b[2K     \u001b[38;2;114;156;31m━━━━━━━━━━━━━━━━━━━━━━━━━━━━━━━━━━━━━━━━\u001b[0m \u001b[32m77.1/77.1 kB\u001b[0m \u001b[31m72.5 kB/s\u001b[0m eta \u001b[36m0:00:00\u001b[0m kB/s\u001b[0m eta \u001b[36m0:00:01\u001b[0m\n",
      "\u001b[?25hCollecting pyee<9.0.0,>=8.1.0\n",
      "  Downloading pyee-8.2.2-py2.py3-none-any.whl (12 kB)\n",
      "Requirement already satisfied: urllib3<2.0.0,>=1.25.8 in /home/samu/anaconda3/envs/challenge1/lib/python3.8/site-packages (from pyppeteer==0.2.6->nbconvert[webpdf]) (1.26.7)\n",
      "Requirement already satisfied: MarkupSafe>=2.0 in /home/samu/anaconda3/envs/challenge1/lib/python3.8/site-packages (from jinja2>=2.4->nbconvert[webpdf]) (2.0.1)\n",
      "Requirement already satisfied: jupyter-client>=6.1.5 in /home/samu/anaconda3/envs/challenge1/lib/python3.8/site-packages (from nbclient<0.6.0,>=0.5.0->nbconvert[webpdf]) (7.1.0)\n",
      "Requirement already satisfied: nest-asyncio in /home/samu/anaconda3/envs/challenge1/lib/python3.8/site-packages (from nbclient<0.6.0,>=0.5.0->nbconvert[webpdf]) (1.5.4)\n",
      "Requirement already satisfied: ipython-genutils in /home/samu/anaconda3/envs/challenge1/lib/python3.8/site-packages (from nbformat>=4.4->nbconvert[webpdf]) (0.2.0)\n",
      "Requirement already satisfied: jsonschema!=2.5.0,>=2.4 in /home/samu/anaconda3/envs/challenge1/lib/python3.8/site-packages (from nbformat>=4.4->nbconvert[webpdf]) (4.2.1)\n",
      "Requirement already satisfied: six>=1.9.0 in /home/samu/anaconda3/envs/challenge1/lib/python3.8/site-packages (from bleach->nbconvert[webpdf]) (1.16.0)\n",
      "Requirement already satisfied: webencodings in /home/samu/anaconda3/envs/challenge1/lib/python3.8/site-packages (from bleach->nbconvert[webpdf]) (0.5.1)\n",
      "Requirement already satisfied: packaging in /home/samu/anaconda3/envs/challenge1/lib/python3.8/site-packages (from bleach->nbconvert[webpdf]) (21.3)\n",
      "Requirement already satisfied: zipp>=0.5 in /home/samu/anaconda3/envs/challenge1/lib/python3.8/site-packages (from importlib-metadata>=1.4->pyppeteer==0.2.6->nbconvert[webpdf]) (3.6.0)\n",
      "Requirement already satisfied: importlib-resources>=1.4.0 in /home/samu/anaconda3/envs/challenge1/lib/python3.8/site-packages (from jsonschema!=2.5.0,>=2.4->nbformat>=4.4->nbconvert[webpdf]) (5.4.0)\n",
      "Requirement already satisfied: attrs>=17.4.0 in /home/samu/anaconda3/envs/challenge1/lib/python3.8/site-packages (from jsonschema!=2.5.0,>=2.4->nbformat>=4.4->nbconvert[webpdf]) (21.2.0)\n",
      "Requirement already satisfied: pyrsistent!=0.17.0,!=0.17.1,!=0.17.2,>=0.14.0 in /home/samu/anaconda3/envs/challenge1/lib/python3.8/site-packages (from jsonschema!=2.5.0,>=2.4->nbformat>=4.4->nbconvert[webpdf]) (0.18.0)\n",
      "Requirement already satisfied: python-dateutil>=2.1 in /home/samu/anaconda3/envs/challenge1/lib/python3.8/site-packages (from jupyter-client>=6.1.5->nbclient<0.6.0,>=0.5.0->nbconvert[webpdf]) (2.8.2)\n",
      "Requirement already satisfied: tornado>=4.1 in /home/samu/anaconda3/envs/challenge1/lib/python3.8/site-packages (from jupyter-client>=6.1.5->nbclient<0.6.0,>=0.5.0->nbconvert[webpdf]) (6.1)\n",
      "Requirement already satisfied: pyzmq>=13 in /home/samu/anaconda3/envs/challenge1/lib/python3.8/site-packages (from jupyter-client>=6.1.5->nbclient<0.6.0,>=0.5.0->nbconvert[webpdf]) (22.3.0)\n",
      "Requirement already satisfied: pyparsing!=3.0.5,>=2.0.2 in /home/samu/anaconda3/envs/challenge1/lib/python3.8/site-packages (from packaging->bleach->nbconvert[webpdf]) (3.0.6)\n",
      "Installing collected packages: pyee, appdirs, websockets, tqdm, importlib-metadata, pyppeteer\n",
      "Successfully installed appdirs-1.4.4 importlib-metadata-6.1.0 pyee-8.2.2 pyppeteer-0.2.6 tqdm-4.65.0 websockets-9.1\n",
      "Note: you may need to restart the kernel to use updated packages.\n"
     ]
    }
   ],
   "source": [
    "pip install nbconvert[webpdf]"
   ]
  },
  {
   "cell_type": "code",
   "execution_count": 45,
   "id": "e722afb5-ae03-47d5-b90e-7d21bab19c0e",
   "metadata": {},
   "outputs": [
    {
     "ename": "SyntaxError",
     "evalue": "invalid syntax (514470026.py, line 1)",
     "output_type": "error",
     "traceback": [
      "\u001b[0;36m  File \u001b[0;32m\"/tmp/ipykernel_6483/514470026.py\"\u001b[0;36m, line \u001b[0;32m1\u001b[0m\n\u001b[0;31m    jupyter nbconvert --to webpdf --allow-chromium-download your-notebook-file.ipynb\u001b[0m\n\u001b[0m            ^\u001b[0m\n\u001b[0;31mSyntaxError\u001b[0m\u001b[0;31m:\u001b[0m invalid syntax\n"
     ]
    }
   ],
   "source": [
    "jupyter nbconvert --to webpdf --allow-chromium-download your-notebook-file.ipynb"
   ]
  },
  {
   "cell_type": "code",
   "execution_count": 46,
   "id": "4059433e-b4b9-4f0d-82de-f91393b7d1d2",
   "metadata": {},
   "outputs": [
    {
     "ename": "SyntaxError",
     "evalue": "invalid syntax (3068813662.py, line 1)",
     "output_type": "error",
     "traceback": [
      "\u001b[0;36m  File \u001b[0;32m\"/tmp/ipykernel_6483/3068813662.py\"\u001b[0;36m, line \u001b[0;32m1\u001b[0m\n\u001b[0;31m    jupyter nbconvert --to webpdf --allow-chromium-download Sam_Graph_1.ipynb\u001b[0m\n\u001b[0m            ^\u001b[0m\n\u001b[0;31mSyntaxError\u001b[0m\u001b[0;31m:\u001b[0m invalid syntax\n"
     ]
    }
   ],
   "source": [
    "jupyter nbconvert --to webpdf --allow-chromium-download Sam_Graph_1.ipynb"
   ]
  },
  {
   "cell_type": "code",
   "execution_count": null,
   "id": "454e1536-b799-4c96-97ee-36c344d9e0b9",
   "metadata": {},
   "outputs": [],
   "source": []
  }
 ],
 "metadata": {
  "kernelspec": {
   "display_name": "Python 3 (ipykernel)",
   "language": "python",
   "name": "python3"
  },
  "language_info": {
   "codemirror_mode": {
    "name": "ipython",
    "version": 3
   },
   "file_extension": ".py",
   "mimetype": "text/x-python",
   "name": "python",
   "nbconvert_exporter": "python",
   "pygments_lexer": "ipython3",
   "version": "3.8.16"
  }
 },
 "nbformat": 4,
 "nbformat_minor": 5
}
